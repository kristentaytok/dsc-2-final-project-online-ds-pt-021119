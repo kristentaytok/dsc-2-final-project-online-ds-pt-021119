{
 "cells": [
  {
   "cell_type": "markdown",
   "metadata": {},
   "source": [
    "# Final Project Submission\n",
    "\n",
    "- Student name: Kristen Tokunaga\n",
    "- Student pace: part time\n",
    "- Scheduled project review date/time: \n",
    "- Instructor name: Brandon Lewis\n",
    "- Blog post URL: https://kristentaytok.github.io/"
   ]
  },
  {
   "attachments": {
    "image.png": {
     "image/png": "[encoded data removed]"
    }
   },
   "cell_type": "markdown",
   "metadata": {},
   "source": [
    "# The Scientific Method\n",
    "\n",
    "![image.png](attachment:image.png)\n",
    "\n",
    "Using data from the Northwind database, we will employ SQL, statistical analysis (hypothesis testing), and the Scientific Method to answer business questions about this fictional company:\n",
    "\n",
    "1. Do discounts have a statistically significant effect on the number of products customers order? If so, at what level(s) of discount?\n",
    "2. Is there a statistically significant difference in performance between employees from the 52 territories?  \n",
    "3. Does the spend of our top 20% of customers exceed 80% of our sales income of in a given year?\n",
    "4. Which product categories had significantly higher orders per quarter? \n",
    "\n",
    "The process for answering the 4 above questions will be to follow the steps from the Scientific method:\n",
    "1. Construct hypothesis (null and alternative)\n",
    "2. Test with an experiment: one-tail or two-tail test\n",
    "3. Analyze Results: \n",
    "- Test statistic\n",
    "- P-value\n",
    "- Effect size\n",
    "4. Conclusion: Reject or fail to reject the hypothesis"
   ]
  },
  {
   "cell_type": "markdown",
   "metadata": {},
   "source": [
    "# Getting Started\n",
    "\n",
    "1. Import Necessary Libraries\n",
    "2. Connect to the Database\n",
    "3. Explore the Data"
   ]
  },
  {
   "cell_type": "code",
   "execution_count": 18,
   "metadata": {},
   "outputs": [],
   "source": [
    "#import libraries\n",
    "import sqlalchemy\n",
    "import pandas as pd\n",
    "import numpy as np\n",
    "\n",
    "\n",
    "\n",
    "import matplotlib.pyplot as plt\n",
    "import seaborn as sns\n",
    "plt.style.use('seaborn')"
   ]
  },
  {
   "cell_type": "code",
   "execution_count": 19,
   "metadata": {},
   "outputs": [
    {
     "name": "stdout",
     "output_type": "stream",
     "text": [
      "2019-06-04 07:47:52,303 INFO sqlalchemy.engine.base.Engine SELECT CAST('test plain returns' AS VARCHAR(60)) AS anon_1\n",
      "2019-06-04 07:47:52,304 INFO sqlalchemy.engine.base.Engine ()\n",
      "2019-06-04 07:47:52,305 INFO sqlalchemy.engine.base.Engine SELECT CAST('test unicode returns' AS VARCHAR(60)) AS anon_1\n",
      "2019-06-04 07:47:52,306 INFO sqlalchemy.engine.base.Engine ()\n",
      "2019-06-04 07:47:52,307 INFO sqlalchemy.engine.base.Engine SELECT name FROM sqlite_master WHERE type='table' ORDER BY name\n",
      "2019-06-04 07:47:52,308 INFO sqlalchemy.engine.base.Engine ()\n",
      "['Category', 'Customer', 'CustomerCustomerDemo', 'CustomerDemographic', 'Employee', 'EmployeeTerritory', 'Order', 'OrderDetail', 'Product', 'Region', 'Shipper', 'Supplier', 'Territory']\n",
      "2019-06-04 07:47:52,310 INFO sqlalchemy.engine.base.Engine PRAGMA table_info(\"OrderDetail\")\n",
      "2019-06-04 07:47:52,310 INFO sqlalchemy.engine.base.Engine ()\n",
      "Table Name: OrderDetail\n",
      "\n",
      "Name: Id \t Type: VARCHAR(8000)\n",
      "Name: OrderId \t Type: INTEGER\n",
      "Name: ProductId \t Type: INTEGER\n",
      "Name: UnitPrice \t Type: DECIMAL\n",
      "Name: Quantity \t Type: INTEGER\n",
      "Name: Discount \t Type: FLOAT\n"
     ]
    }
   ],
   "source": [
    "#connect using SQLAlchemy, an Object Relational Mapper (ORM) which connects relational database tables to Python objects, and use CRUD: Create, Read, Update, Delete\n",
    "#create an engine object, and bind it to our database\n",
    "from sqlalchemy import create_engine\n",
    "engine = create_engine('sqlite:///Northwind_small.sqlite', echo=True)\n",
    "\n",
    "#create an inspector object by passing in engine to inspect\n",
    "from sqlalchemy import inspect\n",
    "inspector = inspect(engine)\n",
    "\n",
    "# get names of tables in database\n",
    "print(inspector.get_table_names())\n",
    "\n",
    "#get column names for a specific table, along with each column's datatype\n",
    "def get_columns_info(table_name):    \n",
    "    \"\"\" Function takes in table name and prints columns' names\n",
    "    and datatypes \"\"\"\n",
    "    \n",
    "    cols_list = inspector.get_columns(table_name)    \n",
    "    print(f\"Table Name: {table_name}\\n\")\n",
    "    for col in cols_list:\n",
    "        print(f\"Name: {col['name']} \\t Type: {col['type']}\")\n",
    "              \n",
    "get_columns_info('OrderDetail')\n",
    "#https://github.com/BrittaInData/dsc-2-final-project-online-ds-ft-100118/blob/master/01_Final_Notebook.ipynb"
   ]
  },
  {
   "cell_type": "code",
   "execution_count": 20,
   "metadata": {},
   "outputs": [
    {
     "name": "stdout",
     "output_type": "stream",
     "text": [
      "2019-06-04 07:47:54,669 INFO sqlalchemy.engine.base.Engine PRAGMA table_info(\"Category\")\n",
      "2019-06-04 07:47:54,670 INFO sqlalchemy.engine.base.Engine ()\n",
      "Table Name: Category\n",
      "\n",
      "Name: Id \t Type: INTEGER\n",
      "Name: CategoryName \t Type: VARCHAR(8000)\n",
      "Name: Description \t Type: VARCHAR(8000)\n",
      "None\n",
      "2019-06-04 07:47:54,672 INFO sqlalchemy.engine.base.Engine PRAGMA table_info(\"Customer\")\n",
      "2019-06-04 07:47:54,673 INFO sqlalchemy.engine.base.Engine ()\n",
      "Table Name: Customer\n",
      "\n",
      "Name: Id \t Type: VARCHAR(8000)\n",
      "Name: CompanyName \t Type: VARCHAR(8000)\n",
      "Name: ContactName \t Type: VARCHAR(8000)\n",
      "Name: ContactTitle \t Type: VARCHAR(8000)\n",
      "Name: Address \t Type: VARCHAR(8000)\n",
      "Name: City \t Type: VARCHAR(8000)\n",
      "Name: Region \t Type: VARCHAR(8000)\n",
      "Name: PostalCode \t Type: VARCHAR(8000)\n",
      "Name: Country \t Type: VARCHAR(8000)\n",
      "Name: Phone \t Type: VARCHAR(8000)\n",
      "Name: Fax \t Type: VARCHAR(8000)\n",
      "None\n",
      "2019-06-04 07:47:54,677 INFO sqlalchemy.engine.base.Engine PRAGMA table_info(\"CustomerCustomerDemo\")\n",
      "2019-06-04 07:47:54,678 INFO sqlalchemy.engine.base.Engine ()\n",
      "Table Name: CustomerCustomerDemo\n",
      "\n",
      "Name: Id \t Type: VARCHAR(8000)\n",
      "Name: CustomerTypeId \t Type: VARCHAR(8000)\n",
      "None\n",
      "2019-06-04 07:47:54,681 INFO sqlalchemy.engine.base.Engine PRAGMA table_info(\"CustomerDemographic\")\n",
      "2019-06-04 07:47:54,681 INFO sqlalchemy.engine.base.Engine ()\n",
      "Table Name: CustomerDemographic\n",
      "\n",
      "Name: Id \t Type: VARCHAR(8000)\n",
      "Name: CustomerDesc \t Type: VARCHAR(8000)\n",
      "None\n",
      "2019-06-04 07:47:54,684 INFO sqlalchemy.engine.base.Engine PRAGMA table_info(\"Employee\")\n",
      "2019-06-04 07:47:54,685 INFO sqlalchemy.engine.base.Engine ()\n",
      "Table Name: Employee\n",
      "\n",
      "Name: Id \t Type: INTEGER\n",
      "Name: LastName \t Type: VARCHAR(8000)\n",
      "Name: FirstName \t Type: VARCHAR(8000)\n",
      "Name: Title \t Type: VARCHAR(8000)\n",
      "Name: TitleOfCourtesy \t Type: VARCHAR(8000)\n",
      "Name: BirthDate \t Type: VARCHAR(8000)\n",
      "Name: HireDate \t Type: VARCHAR(8000)\n",
      "Name: Address \t Type: VARCHAR(8000)\n",
      "Name: City \t Type: VARCHAR(8000)\n",
      "Name: Region \t Type: VARCHAR(8000)\n",
      "Name: PostalCode \t Type: VARCHAR(8000)\n",
      "Name: Country \t Type: VARCHAR(8000)\n",
      "Name: HomePhone \t Type: VARCHAR(8000)\n",
      "Name: Extension \t Type: VARCHAR(8000)\n",
      "Name: Photo \t Type: BLOB\n",
      "Name: Notes \t Type: VARCHAR(8000)\n",
      "Name: ReportsTo \t Type: INTEGER\n",
      "Name: PhotoPath \t Type: VARCHAR(8000)\n",
      "None\n",
      "2019-06-04 07:47:54,688 INFO sqlalchemy.engine.base.Engine PRAGMA table_info(\"EmployeeTerritory\")\n",
      "2019-06-04 07:47:54,689 INFO sqlalchemy.engine.base.Engine ()\n",
      "Table Name: EmployeeTerritory\n",
      "\n",
      "Name: Id \t Type: VARCHAR(8000)\n",
      "Name: EmployeeId \t Type: INTEGER\n",
      "Name: TerritoryId \t Type: VARCHAR(8000)\n",
      "None\n",
      "2019-06-04 07:47:54,694 INFO sqlalchemy.engine.base.Engine PRAGMA table_info(\"Order\")\n",
      "2019-06-04 07:47:54,694 INFO sqlalchemy.engine.base.Engine ()\n",
      "Table Name: Order\n",
      "\n",
      "Name: Id \t Type: INTEGER\n",
      "Name: CustomerId \t Type: VARCHAR(8000)\n",
      "Name: EmployeeId \t Type: INTEGER\n",
      "Name: OrderDate \t Type: VARCHAR(8000)\n",
      "Name: RequiredDate \t Type: VARCHAR(8000)\n",
      "Name: ShippedDate \t Type: VARCHAR(8000)\n",
      "Name: ShipVia \t Type: INTEGER\n",
      "Name: Freight \t Type: DECIMAL\n",
      "Name: ShipName \t Type: VARCHAR(8000)\n",
      "Name: ShipAddress \t Type: VARCHAR(8000)\n",
      "Name: ShipCity \t Type: VARCHAR(8000)\n",
      "Name: ShipRegion \t Type: VARCHAR(8000)\n",
      "Name: ShipPostalCode \t Type: VARCHAR(8000)\n",
      "Name: ShipCountry \t Type: VARCHAR(8000)\n",
      "None\n",
      "Table Name: OrderDetail\n",
      "\n",
      "Name: Id \t Type: VARCHAR(8000)\n",
      "Name: OrderId \t Type: INTEGER\n",
      "Name: ProductId \t Type: INTEGER\n",
      "Name: UnitPrice \t Type: DECIMAL\n",
      "Name: Quantity \t Type: INTEGER\n",
      "Name: Discount \t Type: FLOAT\n",
      "None\n",
      "2019-06-04 07:47:54,698 INFO sqlalchemy.engine.base.Engine PRAGMA table_info(\"Product\")\n",
      "2019-06-04 07:47:54,698 INFO sqlalchemy.engine.base.Engine ()\n",
      "Table Name: Product\n",
      "\n",
      "Name: Id \t Type: INTEGER\n",
      "Name: ProductName \t Type: VARCHAR(8000)\n",
      "Name: SupplierId \t Type: INTEGER\n",
      "Name: CategoryId \t Type: INTEGER\n",
      "Name: QuantityPerUnit \t Type: VARCHAR(8000)\n",
      "Name: UnitPrice \t Type: DECIMAL\n",
      "Name: UnitsInStock \t Type: INTEGER\n",
      "Name: UnitsOnOrder \t Type: INTEGER\n",
      "Name: ReorderLevel \t Type: INTEGER\n",
      "Name: Discontinued \t Type: INTEGER\n",
      "None\n",
      "2019-06-04 07:47:54,703 INFO sqlalchemy.engine.base.Engine PRAGMA table_info(\"Region\")\n",
      "2019-06-04 07:47:54,704 INFO sqlalchemy.engine.base.Engine ()\n",
      "Table Name: Region\n",
      "\n",
      "Name: Id \t Type: INTEGER\n",
      "Name: RegionDescription \t Type: VARCHAR(8000)\n",
      "None\n",
      "2019-06-04 07:47:54,706 INFO sqlalchemy.engine.base.Engine PRAGMA table_info(\"Shipper\")\n",
      "2019-06-04 07:47:54,706 INFO sqlalchemy.engine.base.Engine ()\n",
      "Table Name: Shipper\n",
      "\n",
      "Name: Id \t Type: INTEGER\n",
      "Name: CompanyName \t Type: VARCHAR(8000)\n",
      "Name: Phone \t Type: VARCHAR(8000)\n",
      "None\n",
      "2019-06-04 07:47:54,709 INFO sqlalchemy.engine.base.Engine PRAGMA table_info(\"Supplier\")\n",
      "2019-06-04 07:47:54,710 INFO sqlalchemy.engine.base.Engine ()\n",
      "Table Name: Supplier\n",
      "\n",
      "Name: Id \t Type: INTEGER\n",
      "Name: CompanyName \t Type: VARCHAR(8000)\n",
      "Name: ContactName \t Type: VARCHAR(8000)\n",
      "Name: ContactTitle \t Type: VARCHAR(8000)\n",
      "Name: Address \t Type: VARCHAR(8000)\n",
      "Name: City \t Type: VARCHAR(8000)\n",
      "Name: Region \t Type: VARCHAR(8000)\n",
      "Name: PostalCode \t Type: VARCHAR(8000)\n",
      "Name: Country \t Type: VARCHAR(8000)\n",
      "Name: Phone \t Type: VARCHAR(8000)\n",
      "Name: Fax \t Type: VARCHAR(8000)\n",
      "Name: HomePage \t Type: VARCHAR(8000)\n",
      "None\n",
      "2019-06-04 07:47:54,713 INFO sqlalchemy.engine.base.Engine PRAGMA table_info(\"Territory\")\n",
      "2019-06-04 07:47:54,713 INFO sqlalchemy.engine.base.Engine ()\n",
      "Table Name: Territory\n",
      "\n",
      "Name: Id \t Type: VARCHAR(8000)\n",
      "Name: TerritoryDescription \t Type: VARCHAR(8000)\n",
      "Name: RegionId \t Type: INTEGER\n",
      "None\n"
     ]
    },
    {
     "data": {
      "text/html": [
       "<img src=\"Northwind_ERD.png\"/>"
      ],
      "text/plain": [
       "<IPython.core.display.Image object>"
      ]
     },
     "execution_count": 20,
     "metadata": {},
     "output_type": "execute_result"
    }
   ],
   "source": [
    "#explore the data\n",
    "table_list = ['Category', 'Customer', 'CustomerCustomerDemo', 'CustomerDemographic', 'Employee', 'EmployeeTerritory', 'Order', 'OrderDetail', 'Product', 'Region', 'Shipper', 'Supplier', 'Territory']\n",
    "def all_tables(table_list):\n",
    "    for table in table_list:\n",
    "        print(get_columns_info(table))\n",
    "all_tables(table_list)\n",
    "\n",
    "from IPython.display import Image\n",
    "from IPython.core.display import HTML \n",
    "Image(url= \"Northwind_ERD.png\")"
   ]
  },
  {
   "cell_type": "markdown",
   "metadata": {},
   "source": [
    "# Question #1: Do discounts have a statistically significant effect on the number of products customers order? If so, at what level(s) of discount?\n",
    "\n",
    "1. Construct hypothesis (null and alternative)\n",
    "- Null: H0 = there is no difference in product quantity per order across all levels of discounts (M1 = M2 = M3 = M4 = M5 = M6 = M7 = M8 = M9 = M10 = M11)\n",
    "- Alternative: H1 = there is a difference in product quantity per order between at least 2 discount levels (M1 =/= M2 and/or M3, etc.; M2 =/= M3 and/or M4, etc.) \n",
    "2. Test with an experiment: two-tail test (because we want to test if the average product quantity per order at each discount level falls between, or outside of, a range of two given values; in short, we are testing for any difference [more or fewer products per order] among the discount levels.  \n",
    "- ANOVA  (ANalysis Of VAriance) = a statistical test for multiple groups (multiple pairwise comparisons). ANOVA describes overall variation from all of our sample observations, and break this variation down to variation from each of these individual factors [Sum of Square of Deviations. or the variance between mean of each sample group to the observations within the group itself] vs. unaccounted-for error or chance [Sum of Square of Errors, or the variance between mean of these test groups to the mean of all observations].    \n",
    "3. Analyze Results: \n",
    "- Test statistic = F-distribution, which results from comparing the SSD and SSE. Higher values of the F-statistic indicate a higher probability of that factor being influential. If we set alpha (significance level) = 0.05, and F > F_alpha, then the factor has a significant effect on the dependent variable. \n",
    "- P-value = the calculated probability of arriving at this data randomly (proability that sample means are the same). In the ANOVA test we will use, this is reflected in the PR(>F) value. \n",
    "- Effect size = the size in difference between two groups under observation. This is highly valuable in quantifying the effectiveness of a particular intervention, showing how well the test model works in a range of practical contexts and allowing us to perform a power analysis to determine the sample size needed to achieve a certain probability of finding a true effect (if present). This is most commonly measured using Cohen's D. A larger value represents a greater difference between two groups on that variable.  \n",
    "4. Conclusion: Reject or fail to reject the hypothesis"
   ]
  },
  {
   "cell_type": "code",
   "execution_count": 46,
   "metadata": {},
   "outputs": [
    {
     "name": "stdout",
     "output_type": "stream",
     "text": [
      "2019-06-05 05:06:05,000 INFO sqlalchemy.engine.base.Engine SELECT * FROM Territory\n",
      "2019-06-05 05:06:05,002 INFO sqlalchemy.engine.base.Engine ()\n"
     ]
    },
    {
     "data": {
      "text/plain": [
       "array(['Westboro', 'Bedford', 'Georgetow', 'Boston', 'Cambridge',\n",
       "       'Braintree', 'Providence', 'Hollis', 'Portsmouth', 'Wilton',\n",
       "       'Morristown', 'Edison', 'New York', 'Mellvile', 'Fairport',\n",
       "       'Philadelphia', 'Neward', 'Rockville', 'Greensboro', 'Cary',\n",
       "       'Columbia', 'Atlanta', 'Savannah', 'Orlando', 'Tampa',\n",
       "       'Louisville', 'Beachwood', 'Findlay', 'Southfield', 'Troy',\n",
       "       'Bloomfield Hills', 'Racine', 'Roseville', 'Minneapolis',\n",
       "       'Hoffman Estates', 'Chicago', 'Bentonville', 'Dallas', 'Austin',\n",
       "       'Denver', 'Colorado Springs', 'Phoenix', 'Scottsdale',\n",
       "       'Santa Monica', 'Menlo Park', 'San Francisco', 'Campbell',\n",
       "       'Santa Clara', 'Santa Cruz', 'Bellevue', 'Redmond', 'Seattle'],\n",
       "      dtype=object)"
      ]
     },
     "execution_count": 46,
     "metadata": {},
     "output_type": "execute_result"
    }
   ],
   "source": [
    "#using the pd.read_sql_query() method is the better way to incorporate the SQL data tables into pandas because by passing through 1. the SQL query we want to execute (in the form of a string) and 2. the engine object we created to connect to our database with SQLAlchemy, the columns will be labeled correctly (instead of being assigned index column numbers) \n",
    "df_territory = pd.read_sql_query('''SELECT * FROM Territory''', engine)\n",
    "df_territory.TerritoryDescription.unique()"
   ]
  },
  {
   "cell_type": "code",
   "execution_count": 55,
   "metadata": {},
   "outputs": [
    {
     "name": "stdout",
     "output_type": "stream",
     "text": [
      "2019-06-05 05:34:14,165 INFO sqlalchemy.engine.base.Engine SELECT * FROM OrderDetail\n",
      "2019-06-05 05:34:14,166 INFO sqlalchemy.engine.base.Engine ()\n",
      "0.00    1317\n",
      "0.05     185\n",
      "0.10     173\n",
      "0.20     161\n",
      "0.15     157\n",
      "0.25     154\n",
      "0.03       3\n",
      "0.02       2\n",
      "0.01       1\n",
      "0.04       1\n",
      "0.06       1\n",
      "Name: Discount, dtype: int64\n",
      "<class 'pandas.core.frame.DataFrame'>\n",
      "RangeIndex: 2155 entries, 0 to 2154\n",
      "Data columns (total 6 columns):\n",
      "Id           2155 non-null object\n",
      "OrderId      2155 non-null int64\n",
      "ProductId    2155 non-null int64\n",
      "UnitPrice    2155 non-null float64\n",
      "Quantity     2155 non-null int64\n",
      "Discount     2155 non-null float64\n",
      "dtypes: float64(2), int64(3), object(1)\n",
      "memory usage: 101.1+ KB\n",
      "None\n"
     ]
    }
   ],
   "source": [
    "#using the pd.read_sql_query() method is the better way to incorporate the SQL data tables into pandas because by passing through 1. the SQL query we want to execute (in the form of a string) and 2. the engine object we created to connect to our database with SQLAlchemy, the columns will be labeled correctly (instead of being assigned index column numbers) \n",
    "df_orderdetail = pd.read_sql_query('''SELECT * FROM OrderDetail''', engine)\n",
    "print(df_orderdetail.Discount.value_counts())\n",
    "print(df_orderdetail.info())"
   ]
  },
  {
   "cell_type": "markdown",
   "metadata": {},
   "source": [
    "Out of the 11 discount levels, 5 were rarely used: 0.03, 0.02, 0.01, 0.04, and 0.06. Because of the low sample sizes for these groupings, we will drop these outliers."
   ]
  },
  {
   "cell_type": "code",
   "execution_count": 65,
   "metadata": {},
   "outputs": [],
   "source": [
    "df_orderdetail = df_orderdetail[(df_orderdetail.Discount == 0.00) | (df_orderdetail.Discount == 0.05) | (df_orderdetail.Discount == 0.10) | (df_orderdetail.Discount == 0.20) | (df_orderdetail.Discount == 0.15) | (df_orderdetail.Discount == 0.25)]\n",
    "#https://stackoverflow.com/questions/29017525/deleting-rows-based-on-multiple-conditions-python-pandas"
   ]
  },
  {
   "cell_type": "code",
   "execution_count": 69,
   "metadata": {},
   "outputs": [
    {
     "name": "stdout",
     "output_type": "stream",
     "text": [
      "0.00    1317\n",
      "0.05     185\n",
      "0.10     173\n",
      "0.20     161\n",
      "0.15     157\n",
      "0.25     154\n",
      "Name: Discount, dtype: int64\n"
     ]
    },
    {
     "data": {
      "text/html": [
       "<div>\n",
       "<style scoped>\n",
       "    .dataframe tbody tr th:only-of-type {\n",
       "        vertical-align: middle;\n",
       "    }\n",
       "\n",
       "    .dataframe tbody tr th {\n",
       "        vertical-align: top;\n",
       "    }\n",
       "\n",
       "    .dataframe thead th {\n",
       "        text-align: right;\n",
       "    }\n",
       "</style>\n",
       "<table border=\"1\" class=\"dataframe\">\n",
       "  <thead>\n",
       "    <tr style=\"text-align: right;\">\n",
       "      <th></th>\n",
       "      <th>Id</th>\n",
       "      <th>OrderId</th>\n",
       "      <th>ProductId</th>\n",
       "      <th>UnitPrice</th>\n",
       "      <th>Quantity</th>\n",
       "      <th>Discount</th>\n",
       "    </tr>\n",
       "  </thead>\n",
       "  <tbody>\n",
       "    <tr>\n",
       "      <th>0</th>\n",
       "      <td>10248/11</td>\n",
       "      <td>10248</td>\n",
       "      <td>11</td>\n",
       "      <td>14.0</td>\n",
       "      <td>12</td>\n",
       "      <td>0.0</td>\n",
       "    </tr>\n",
       "    <tr>\n",
       "      <th>1</th>\n",
       "      <td>10248/42</td>\n",
       "      <td>10248</td>\n",
       "      <td>42</td>\n",
       "      <td>9.8</td>\n",
       "      <td>10</td>\n",
       "      <td>0.0</td>\n",
       "    </tr>\n",
       "    <tr>\n",
       "      <th>2</th>\n",
       "      <td>10248/72</td>\n",
       "      <td>10248</td>\n",
       "      <td>72</td>\n",
       "      <td>34.8</td>\n",
       "      <td>5</td>\n",
       "      <td>0.0</td>\n",
       "    </tr>\n",
       "    <tr>\n",
       "      <th>3</th>\n",
       "      <td>10249/14</td>\n",
       "      <td>10249</td>\n",
       "      <td>14</td>\n",
       "      <td>18.6</td>\n",
       "      <td>9</td>\n",
       "      <td>0.0</td>\n",
       "    </tr>\n",
       "    <tr>\n",
       "      <th>4</th>\n",
       "      <td>10249/51</td>\n",
       "      <td>10249</td>\n",
       "      <td>51</td>\n",
       "      <td>42.4</td>\n",
       "      <td>40</td>\n",
       "      <td>0.0</td>\n",
       "    </tr>\n",
       "  </tbody>\n",
       "</table>\n",
       "</div>"
      ],
      "text/plain": [
       "         Id  OrderId  ProductId  UnitPrice  Quantity  Discount\n",
       "0  10248/11    10248         11       14.0        12       0.0\n",
       "1  10248/42    10248         42        9.8        10       0.0\n",
       "2  10248/72    10248         72       34.8         5       0.0\n",
       "3  10249/14    10249         14       18.6         9       0.0\n",
       "4  10249/51    10249         51       42.4        40       0.0"
      ]
     },
     "execution_count": 69,
     "metadata": {},
     "output_type": "execute_result"
    }
   ],
   "source": [
    "print(df_orderdetail.Discount.value_counts())\n",
    "df_orderdetail.head()"
   ]
  },
  {
   "cell_type": "markdown",
   "metadata": {},
   "source": [
    "ANOVA tests require 3 assumptions to be met before its results can be considered accurate and trustworthy. These 3 assumptions are similar to those of linear regression: \n",
    "1. Normality\n",
    "2. Homogeneity of variance\n",
    "3. Independent observations (i.e., no multicolinearity)"
   ]
  },
  {
   "cell_type": "code",
   "execution_count": 79,
   "metadata": {},
   "outputs": [
    {
     "data": {
      "image/png": "[encoded data removed]",
      "text/plain": [
       "<Figure size 720x360 with 1 Axes>"
      ]
     },
     "metadata": {},
     "output_type": "display_data"
    }
   ],
   "source": [
    "df_orderdetail.boxplot('Quantity', by='Discount', figsize=(10, 5));\n",
    "#The boxplots below give us a sense of whether there are outliers present within or between the different discount groups. ANOVA compares the between-group vs. within-group variance; if the between-group variance is greater than the within-group variance, then we tend to have a significant effect. The vertical height of each box and whisker = within-group variance, while comparing the medians of each box plot to the horizontal comparators gives a visual representation of between-group variance. "
   ]
  },
  {
   "cell_type": "code",
   "execution_count": 78,
   "metadata": {},
   "outputs": [
    {
     "data": {
      "image/png": "[encoded data removed]",
      "text/plain": [
       "<Figure size 720x720 with 6 Axes>"
      ]
     },
     "metadata": {},
     "output_type": "display_data"
    }
   ],
   "source": [
    "df_orderdetail.hist('Quantity', by='Discount', figsize=(10, 10), color='grey');\n",
    "#The histograms below provide a visual depiction of the normality (or lackthereof) of the data within each discount group"
   ]
  },
  {
   "cell_type": "code",
   "execution_count": 80,
   "metadata": {},
   "outputs": [
    {
     "name": "stdout",
     "output_type": "stream",
     "text": [
      "                 sum_sq      df          F        PR(>F)\n",
      "Discount   12621.238965     1.0  35.487951  2.991487e-09\n",
      "Residual  762866.181622  2145.0        NaN           NaN\n"
     ]
    },
    {
     "data": {
      "text/html": [
       "<table class=\"simpletable\">\n",
       "<caption>OLS Regression Results</caption>\n",
       "<tr>\n",
       "  <th>Dep. Variable:</th>        <td>Quantity</td>     <th>  R-squared:         </th> <td>   0.016</td> \n",
       "</tr>\n",
       "<tr>\n",
       "  <th>Model:</th>                   <td>OLS</td>       <th>  Adj. R-squared:    </th> <td>   0.016</td> \n",
       "</tr>\n",
       "<tr>\n",
       "  <th>Method:</th>             <td>Least Squares</td>  <th>  F-statistic:       </th> <td>   35.49</td> \n",
       "</tr>\n",
       "<tr>\n",
       "  <th>Date:</th>             <td>Wed, 05 Jun 2019</td> <th>  Prob (F-statistic):</th> <td>2.99e-09</td> \n",
       "</tr>\n",
       "<tr>\n",
       "  <th>Time:</th>                 <td>06:25:49</td>     <th>  Log-Likelihood:    </th> <td> -9351.1</td> \n",
       "</tr>\n",
       "<tr>\n",
       "  <th>No. Observations:</th>      <td>  2147</td>      <th>  AIC:               </th> <td>1.871e+04</td>\n",
       "</tr>\n",
       "<tr>\n",
       "  <th>Df Residuals:</th>          <td>  2145</td>      <th>  BIC:               </th> <td>1.872e+04</td>\n",
       "</tr>\n",
       "<tr>\n",
       "  <th>Df Model:</th>              <td>     1</td>      <th>                     </th>     <td> </td>    \n",
       "</tr>\n",
       "<tr>\n",
       "  <th>Covariance Type:</th>      <td>nonrobust</td>    <th>                     </th>     <td> </td>    \n",
       "</tr>\n",
       "</table>\n",
       "<table class=\"simpletable\">\n",
       "<tr>\n",
       "      <td></td>         <th>coef</th>     <th>std err</th>      <th>t</th>      <th>P>|t|</th>  <th>[0.025</th>    <th>0.975]</th>  \n",
       "</tr>\n",
       "<tr>\n",
       "  <th>Intercept</th> <td>   22.2628</td> <td>    0.491</td> <td>   45.374</td> <td> 0.000</td> <td>   21.301</td> <td>   23.225</td>\n",
       "</tr>\n",
       "<tr>\n",
       "  <th>Discount</th>  <td>   29.0137</td> <td>    4.870</td> <td>    5.957</td> <td> 0.000</td> <td>   19.463</td> <td>   38.565</td>\n",
       "</tr>\n",
       "</table>\n",
       "<table class=\"simpletable\">\n",
       "<tr>\n",
       "  <th>Omnibus:</th>       <td>793.193</td> <th>  Durbin-Watson:     </th> <td>   1.642</td>\n",
       "</tr>\n",
       "<tr>\n",
       "  <th>Prob(Omnibus):</th> <td> 0.000</td>  <th>  Jarque-Bera (JB):  </th> <td>3134.102</td>\n",
       "</tr>\n",
       "<tr>\n",
       "  <th>Skew:</th>          <td> 1.787</td>  <th>  Prob(JB):          </th> <td>    0.00</td>\n",
       "</tr>\n",
       "<tr>\n",
       "  <th>Kurtosis:</th>      <td> 7.718</td>  <th>  Cond. No.          </th> <td>    12.0</td>\n",
       "</tr>\n",
       "</table><br/><br/>Warnings:<br/>[1] Standard Errors assume that the covariance matrix of the errors is correctly specified."
      ],
      "text/plain": [
       "<class 'statsmodels.iolib.summary.Summary'>\n",
       "\"\"\"\n",
       "                            OLS Regression Results                            \n",
       "==============================================================================\n",
       "Dep. Variable:               Quantity   R-squared:                       0.016\n",
       "Model:                            OLS   Adj. R-squared:                  0.016\n",
       "Method:                 Least Squares   F-statistic:                     35.49\n",
       "Date:                Wed, 05 Jun 2019   Prob (F-statistic):           2.99e-09\n",
       "Time:                        06:25:49   Log-Likelihood:                -9351.1\n",
       "No. Observations:                2147   AIC:                         1.871e+04\n",
       "Df Residuals:                    2145   BIC:                         1.872e+04\n",
       "Df Model:                           1                                         \n",
       "Covariance Type:            nonrobust                                         \n",
       "==============================================================================\n",
       "                 coef    std err          t      P>|t|      [0.025      0.975]\n",
       "------------------------------------------------------------------------------\n",
       "Intercept     22.2628      0.491     45.374      0.000      21.301      23.225\n",
       "Discount      29.0137      4.870      5.957      0.000      19.463      38.565\n",
       "==============================================================================\n",
       "Omnibus:                      793.193   Durbin-Watson:                   1.642\n",
       "Prob(Omnibus):                  0.000   Jarque-Bera (JB):             3134.102\n",
       "Skew:                           1.787   Prob(JB):                         0.00\n",
       "Kurtosis:                       7.718   Cond. No.                         12.0\n",
       "==============================================================================\n",
       "\n",
       "Warnings:\n",
       "[1] Standard Errors assume that the covariance matrix of the errors is correctly specified.\n",
       "\"\"\""
      ]
     },
     "execution_count": 80,
     "metadata": {},
     "output_type": "execute_result"
    }
   ],
   "source": [
    "import statsmodels.api as sm\n",
    "from statsmodels.formula.api import ols\n",
    "anova = ols('Quantity ~ Discount', data = df_orderdetail).fit()\n",
    "table = sm.stats.anova_lm(anova, typ=2)\n",
    "print(table)\n",
    "anova.summary()\n",
    "#The overall effect of discount is seen in the \"Discount\" row of the ANOVA table: the sum_sq (sum of squares) is how much variance is explained by our model of Discount's effect on quantity of products ordered. Based on the high F value and low p-value (< 0.05), we can see that the current model (discount) explains a significant amount of variance and there is a high probability that this factor is influential. - https://pythonfordatascience.org/anova-python/ This can also be confirmed by the skewness and kurtosis in the summary, which factor into the JB calculation.\n",
    "#The diagnostics in the OLS regression summary help test our assumptions:\n",
    "#1. Jarque-Bera tests for normality: The null hypothesis for this test is that the data is normally distributed, and a small p-value with a large chi-square value means that you can reject the null hypothesis that the data is normally distributed. - https://www.statisticshowto.datasciencecentral.com/jarque-bera-test/ Fortunately, ANOVA is robust to data that violates the assumption of normality, especially when there is a large sample size and group sizes are approximately equal. \n",
    "#2. Omnibus tests the homogeneity of variance: The omnibus test is a likelihood-ratio chi-square test of the current model versus the null (in this case, intercept) model. The significance value of less than 0.05 indicates that the current model outperforms the null model. - https://www.ibm.com/support/knowledgecenter/en/SS3RA7_sub/modeler_tutorial_ddita/spss/tutorials/genlin_ships_omnibus.html. This can also be tested using Levene's test for homogeneity of variance, which is concerned with whether or not the variance of each group is significantly different (from one another).  \n",
    "#3. Condition Number tests for multicolinearity: because this value is < 20, there is low multicolinearity - https://pythonfordatascience.org/anova-python/\n",
    "#The OLS summary also provides other useful information, such as the model's intercept (mean of the baseline group) and the coefficients (difference between the mean of the control group and the Discount group)"
   ]
  },
  {
   "cell_type": "code",
   "execution_count": 81,
   "metadata": {},
   "outputs": [
    {
     "data": {
      "text/plain": [
       "LeveneResult(statistic=2.9943951679841643, pvalue=0.010664285577385134)"
      ]
     },
     "execution_count": 81,
     "metadata": {},
     "output_type": "execute_result"
    }
   ],
   "source": [
    "#Levine's test: This test is a better way to test for homogeneity of variance because: 1. it is more robust in cases where the data is not normally distributed and 2. it tests the homogeneity of variance assumption for each level of the categorical variable (while the statsmodel diagnostic Omnibus test checks for homogeneity of variance across the whole dataset). - https://pythonfordatascience.org/anova-python/\n",
    "from scipy import stats\n",
    "stats.levene(df_orderdetail['Quantity'][df_orderdetail['Discount'] == 0.00],\n",
    "             df_orderdetail['Quantity'][df_orderdetail['Discount'] == 0.05],\n",
    "             df_orderdetail['Quantity'][df_orderdetail['Discount'] == 0.10],\n",
    "             df_orderdetail['Quantity'][df_orderdetail['Discount'] == 0.15],\n",
    "             df_orderdetail['Quantity'][df_orderdetail['Discount'] == 0.20],\n",
    "             df_orderdetail['Quantity'][df_orderdetail['Discount'] == 0.25])\n",
    "#With a p-value < 0.05, the test result is significant which indicates the groups do not have equal variances. This means that the assumption of homogeneity of variance is violated and we cannot have confidence in the omnibus F test results. To be more specific, we could not be confident that the observed mean differences were attributable to the conditions of each group or if those differences were attributable to individual by treatment interaction effects (also called a subject by treatment interaction). However, the relatively equal group sizes helps make the ANOVA test and resulting F-statistic more robust in cases of (i.e., less sensitive to the effects of) violations to this assumption and corrections are not necessary."
   ]
  },
  {
   "cell_type": "code",
   "execution_count": 84,
   "metadata": {},
   "outputs": [
    {
     "data": {
      "text/plain": [
       "0.29970787209408895"
      ]
     },
     "execution_count": 84,
     "metadata": {},
     "output_type": "execute_result"
    }
   ],
   "source": [
    "#calculate effect size\n",
    "control = df_orderdetail[df_orderdetail['Discount']==0]['Quantity']\n",
    "experimental = df_orderdetail[df_orderdetail['Discount']!=0]['Quantity']\n",
    "\n",
    "def Cohen_d(group1, group2):\n",
    "\n",
    "    diff = group1.mean() - group2.mean()\n",
    "    n1, n2 = len(group1), len(group2)\n",
    "    var1 = group1.var()\n",
    "    var2 = group2.var()\n",
    "    # Calculate the pooled threshold\n",
    "    pooled_var = (n1 * var1 + n2 * var2) / (n1 + n2)\n",
    "    # Calculate Cohen's d statistic\n",
    "    d = diff / np.sqrt(pooled_var)\n",
    "    return abs(d)\n",
    "\n",
    "Cohen_d(experimental, control)\n",
    "\n",
    "#Interpration of Cohen's D: Small effect = 0.2, medium effect = 0.5, large effect = 0.8\n"
   ]
  },
  {
   "cell_type": "markdown",
   "metadata": {},
   "source": [
    "While the ANOVA test F-statistic indicates that discount does have an effect on quantity of products ordered, to answer the question of \"which levels of discount have an effect on quantity of products ordered\" we need to be able to calculate differences between discount levels. ANOVA is an omnibus test, meaning it can only capture total differences among the variable groups. Post-hoc testing is required to determine which groups actually had a significant difference. "
   ]
  },
  {
   "cell_type": "code",
   "execution_count": 88,
   "metadata": {},
   "outputs": [
    {
     "name": "stdout",
     "output_type": "stream",
     "text": [
      "Reject Null Hypothesis\n"
     ]
    },
    {
     "name": "stderr",
     "output_type": "stream",
     "text": [
      "/anaconda3/envs/learn-env/lib/python3.6/site-packages/scipy/stats/stats.py:1713: FutureWarning: Using a non-tuple sequence for multidimensional indexing is deprecated; use `arr[tuple(seq)]` instead of `arr[seq]`. In the future this will be interpreted as an array index, `arr[np.array(seq)]`, which will result either in an error or a different result.\n",
      "  return np.add.reduce(sorted[indexer] * weights, axis=axis) / sumval\n"
     ]
    },
    {
     "data": {
      "image/png": "[encoded data removed]",
      "text/plain": [
       "<Figure size 720x432 with 1 Axes>"
      ]
     },
     "metadata": {},
     "output_type": "display_data"
    }
   ],
   "source": []
  },
  {
   "cell_type": "markdown",
   "metadata": {},
   "source": [
    "# Conclusion"
   ]
  },
  {
   "cell_type": "markdown",
   "metadata": {},
   "source": [
    "# Future Directions"
   ]
  }
 ],
 "metadata": {
  "kernelspec": {
   "display_name": "Python 3",
   "language": "python",
   "name": "python3"
  },
  "language_info": {
   "codemirror_mode": {
    "name": "ipython",
    "version": 3
   },
   "file_extension": ".py",
   "mimetype": "text/x-python",
   "name": "python",
   "nbconvert_exporter": "python",
   "pygments_lexer": "ipython3",
   "version": "3.6.6"
  }
 },
 "nbformat": 4,
 "nbformat_minor": 2
}
