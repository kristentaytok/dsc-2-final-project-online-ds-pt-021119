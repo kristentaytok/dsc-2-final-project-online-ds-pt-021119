{
 "cells": [
  {
   "cell_type": "markdown",
   "metadata": {},
   "source": [
    "# Final Project Submission\n",
    "\n",
    "- Student name: Kristen Tokunaga\n",
    "- Student pace: part time\n",
    "- Scheduled project review date/time: \n",
    "- Instructor name: Brandon Lewis\n",
    "- Blog post URL: https://kristentaytok.github.io/"
   ]
  },
  {
   "attachments": {
    "image.png": {
     "image/png": "[encoded data removed]"
    }
   },
   "cell_type": "markdown",
   "metadata": {},
   "source": [
    "# The Scientific Method\n",
    "\n",
    "![image.png](attachment:image.png)\n",
    "\n",
    "Using data from the Northwind database, we will employ SQL, statistical analysis (hypothesis testing), and the Scientific Method to answer business questions about this fictional company:\n",
    "\n",
    "1. Do discounts have a statistically significant effect on the number of products customers order? If so, at what level(s) of discount?\n",
    "2. Is there a statistically significant difference in performance between employees from the 52 territories?  \n",
    "3. Does the spend of our top 20% of customers exceed 80% of our sales income of in a given year?\n",
    "4. Which product categories had significantly higher orders per quarter? \n",
    "\n",
    "The process for answering the 4 above questions will be to follow the steps from the Scientific method:\n",
    "1. Construct hypothesis (null and alternative)\n",
    "2. Test with an experiment: one-tail or two-tail test\n",
    "3. Analyze Results: \n",
    "- Test statistic\n",
    "- P-value\n",
    "- Effect size\n",
    "4. Conclusion: Reject or fail to reject the hypothesis"
   ]
  },
  {
   "cell_type": "markdown",
   "metadata": {},
   "source": [
    "# Getting Started\n",
    "\n",
    "1. Import Necessary Libraries\n",
    "2. Connect to the Database\n",
    "3. Explore the Data"
   ]
  },
  {
   "cell_type": "code",
   "execution_count": 18,
   "metadata": {},
   "outputs": [],
   "source": [
    "#import libraries\n",
    "import sqlalchemy\n",
    "import pandas as pd\n",
    "import numpy as np\n",
    "\n",
    "\n",
    "\n",
    "import matplotlib.pyplot as plt\n",
    "import seaborn as sns\n",
    "plt.style.use('seaborn')"
   ]
  },
  {
   "cell_type": "code",
   "execution_count": 19,
   "metadata": {},
   "outputs": [
    {
     "name": "stdout",
     "output_type": "stream",
     "text": [
      "2019-06-04 07:47:52,303 INFO sqlalchemy.engine.base.Engine SELECT CAST('test plain returns' AS VARCHAR(60)) AS anon_1\n",
      "2019-06-04 07:47:52,304 INFO sqlalchemy.engine.base.Engine ()\n",
      "2019-06-04 07:47:52,305 INFO sqlalchemy.engine.base.Engine SELECT CAST('test unicode returns' AS VARCHAR(60)) AS anon_1\n",
      "2019-06-04 07:47:52,306 INFO sqlalchemy.engine.base.Engine ()\n",
      "2019-06-04 07:47:52,307 INFO sqlalchemy.engine.base.Engine SELECT name FROM sqlite_master WHERE type='table' ORDER BY name\n",
      "2019-06-04 07:47:52,308 INFO sqlalchemy.engine.base.Engine ()\n",
      "['Category', 'Customer', 'CustomerCustomerDemo', 'CustomerDemographic', 'Employee', 'EmployeeTerritory', 'Order', 'OrderDetail', 'Product', 'Region', 'Shipper', 'Supplier', 'Territory']\n",
      "2019-06-04 07:47:52,310 INFO sqlalchemy.engine.base.Engine PRAGMA table_info(\"OrderDetail\")\n",
      "2019-06-04 07:47:52,310 INFO sqlalchemy.engine.base.Engine ()\n",
      "Table Name: OrderDetail\n",
      "\n",
      "Name: Id \t Type: VARCHAR(8000)\n",
      "Name: OrderId \t Type: INTEGER\n",
      "Name: ProductId \t Type: INTEGER\n",
      "Name: UnitPrice \t Type: DECIMAL\n",
      "Name: Quantity \t Type: INTEGER\n",
      "Name: Discount \t Type: FLOAT\n"
     ]
    }
   ],
   "source": [
    "#connect using SQLAlchemy, an Object Relational Mapper (ORM) which connects relational database tables to Python objects, and use CRUD: Create, Read, Update, Delete\n",
    "#create an engine object, and bind it to our database\n",
    "from sqlalchemy import create_engine\n",
    "engine = create_engine('sqlite:///Northwind_small.sqlite', echo=True)\n",
    "\n",
    "#create an inspector object by passing in engine to inspect\n",
    "from sqlalchemy import inspect\n",
    "inspector = inspect(engine)\n",
    "\n",
    "# get names of tables in database\n",
    "print(inspector.get_table_names())\n",
    "\n",
    "#get column names for a specific table, along with each column's datatype\n",
    "def get_columns_info(table_name):    \n",
    "    \"\"\" Function takes in table name and prints columns' names\n",
    "    and datatypes \"\"\"\n",
    "    \n",
    "    cols_list = inspector.get_columns(table_name)    \n",
    "    print(f\"Table Name: {table_name}\\n\")\n",
    "    for col in cols_list:\n",
    "        print(f\"Name: {col['name']} \\t Type: {col['type']}\")\n",
    "              \n",
    "get_columns_info('OrderDetail')\n",
    "#https://github.com/BrittaInData/dsc-2-final-project-online-ds-ft-100118/blob/master/01_Final_Notebook.ipynb"
   ]
  },
  {
   "cell_type": "code",
   "execution_count": 20,
   "metadata": {},
   "outputs": [
    {
     "name": "stdout",
     "output_type": "stream",
     "text": [
      "2019-06-04 07:47:54,669 INFO sqlalchemy.engine.base.Engine PRAGMA table_info(\"Category\")\n",
      "2019-06-04 07:47:54,670 INFO sqlalchemy.engine.base.Engine ()\n",
      "Table Name: Category\n",
      "\n",
      "Name: Id \t Type: INTEGER\n",
      "Name: CategoryName \t Type: VARCHAR(8000)\n",
      "Name: Description \t Type: VARCHAR(8000)\n",
      "None\n",
      "2019-06-04 07:47:54,672 INFO sqlalchemy.engine.base.Engine PRAGMA table_info(\"Customer\")\n",
      "2019-06-04 07:47:54,673 INFO sqlalchemy.engine.base.Engine ()\n",
      "Table Name: Customer\n",
      "\n",
      "Name: Id \t Type: VARCHAR(8000)\n",
      "Name: CompanyName \t Type: VARCHAR(8000)\n",
      "Name: ContactName \t Type: VARCHAR(8000)\n",
      "Name: ContactTitle \t Type: VARCHAR(8000)\n",
      "Name: Address \t Type: VARCHAR(8000)\n",
      "Name: City \t Type: VARCHAR(8000)\n",
      "Name: Region \t Type: VARCHAR(8000)\n",
      "Name: PostalCode \t Type: VARCHAR(8000)\n",
      "Name: Country \t Type: VARCHAR(8000)\n",
      "Name: Phone \t Type: VARCHAR(8000)\n",
      "Name: Fax \t Type: VARCHAR(8000)\n",
      "None\n",
      "2019-06-04 07:47:54,677 INFO sqlalchemy.engine.base.Engine PRAGMA table_info(\"CustomerCustomerDemo\")\n",
      "2019-06-04 07:47:54,678 INFO sqlalchemy.engine.base.Engine ()\n",
      "Table Name: CustomerCustomerDemo\n",
      "\n",
      "Name: Id \t Type: VARCHAR(8000)\n",
      "Name: CustomerTypeId \t Type: VARCHAR(8000)\n",
      "None\n",
      "2019-06-04 07:47:54,681 INFO sqlalchemy.engine.base.Engine PRAGMA table_info(\"CustomerDemographic\")\n",
      "2019-06-04 07:47:54,681 INFO sqlalchemy.engine.base.Engine ()\n",
      "Table Name: CustomerDemographic\n",
      "\n",
      "Name: Id \t Type: VARCHAR(8000)\n",
      "Name: CustomerDesc \t Type: VARCHAR(8000)\n",
      "None\n",
      "2019-06-04 07:47:54,684 INFO sqlalchemy.engine.base.Engine PRAGMA table_info(\"Employee\")\n",
      "2019-06-04 07:47:54,685 INFO sqlalchemy.engine.base.Engine ()\n",
      "Table Name: Employee\n",
      "\n",
      "Name: Id \t Type: INTEGER\n",
      "Name: LastName \t Type: VARCHAR(8000)\n",
      "Name: FirstName \t Type: VARCHAR(8000)\n",
      "Name: Title \t Type: VARCHAR(8000)\n",
      "Name: TitleOfCourtesy \t Type: VARCHAR(8000)\n",
      "Name: BirthDate \t Type: VARCHAR(8000)\n",
      "Name: HireDate \t Type: VARCHAR(8000)\n",
      "Name: Address \t Type: VARCHAR(8000)\n",
      "Name: City \t Type: VARCHAR(8000)\n",
      "Name: Region \t Type: VARCHAR(8000)\n",
      "Name: PostalCode \t Type: VARCHAR(8000)\n",
      "Name: Country \t Type: VARCHAR(8000)\n",
      "Name: HomePhone \t Type: VARCHAR(8000)\n",
      "Name: Extension \t Type: VARCHAR(8000)\n",
      "Name: Photo \t Type: BLOB\n",
      "Name: Notes \t Type: VARCHAR(8000)\n",
      "Name: ReportsTo \t Type: INTEGER\n",
      "Name: PhotoPath \t Type: VARCHAR(8000)\n",
      "None\n",
      "2019-06-04 07:47:54,688 INFO sqlalchemy.engine.base.Engine PRAGMA table_info(\"EmployeeTerritory\")\n",
      "2019-06-04 07:47:54,689 INFO sqlalchemy.engine.base.Engine ()\n",
      "Table Name: EmployeeTerritory\n",
      "\n",
      "Name: Id \t Type: VARCHAR(8000)\n",
      "Name: EmployeeId \t Type: INTEGER\n",
      "Name: TerritoryId \t Type: VARCHAR(8000)\n",
      "None\n",
      "2019-06-04 07:47:54,694 INFO sqlalchemy.engine.base.Engine PRAGMA table_info(\"Order\")\n",
      "2019-06-04 07:47:54,694 INFO sqlalchemy.engine.base.Engine ()\n",
      "Table Name: Order\n",
      "\n",
      "Name: Id \t Type: INTEGER\n",
      "Name: CustomerId \t Type: VARCHAR(8000)\n",
      "Name: EmployeeId \t Type: INTEGER\n",
      "Name: OrderDate \t Type: VARCHAR(8000)\n",
      "Name: RequiredDate \t Type: VARCHAR(8000)\n",
      "Name: ShippedDate \t Type: VARCHAR(8000)\n",
      "Name: ShipVia \t Type: INTEGER\n",
      "Name: Freight \t Type: DECIMAL\n",
      "Name: ShipName \t Type: VARCHAR(8000)\n",
      "Name: ShipAddress \t Type: VARCHAR(8000)\n",
      "Name: ShipCity \t Type: VARCHAR(8000)\n",
      "Name: ShipRegion \t Type: VARCHAR(8000)\n",
      "Name: ShipPostalCode \t Type: VARCHAR(8000)\n",
      "Name: ShipCountry \t Type: VARCHAR(8000)\n",
      "None\n",
      "Table Name: OrderDetail\n",
      "\n",
      "Name: Id \t Type: VARCHAR(8000)\n",
      "Name: OrderId \t Type: INTEGER\n",
      "Name: ProductId \t Type: INTEGER\n",
      "Name: UnitPrice \t Type: DECIMAL\n",
      "Name: Quantity \t Type: INTEGER\n",
      "Name: Discount \t Type: FLOAT\n",
      "None\n",
      "2019-06-04 07:47:54,698 INFO sqlalchemy.engine.base.Engine PRAGMA table_info(\"Product\")\n",
      "2019-06-04 07:47:54,698 INFO sqlalchemy.engine.base.Engine ()\n",
      "Table Name: Product\n",
      "\n",
      "Name: Id \t Type: INTEGER\n",
      "Name: ProductName \t Type: VARCHAR(8000)\n",
      "Name: SupplierId \t Type: INTEGER\n",
      "Name: CategoryId \t Type: INTEGER\n",
      "Name: QuantityPerUnit \t Type: VARCHAR(8000)\n",
      "Name: UnitPrice \t Type: DECIMAL\n",
      "Name: UnitsInStock \t Type: INTEGER\n",
      "Name: UnitsOnOrder \t Type: INTEGER\n",
      "Name: ReorderLevel \t Type: INTEGER\n",
      "Name: Discontinued \t Type: INTEGER\n",
      "None\n",
      "2019-06-04 07:47:54,703 INFO sqlalchemy.engine.base.Engine PRAGMA table_info(\"Region\")\n",
      "2019-06-04 07:47:54,704 INFO sqlalchemy.engine.base.Engine ()\n",
      "Table Name: Region\n",
      "\n",
      "Name: Id \t Type: INTEGER\n",
      "Name: RegionDescription \t Type: VARCHAR(8000)\n",
      "None\n",
      "2019-06-04 07:47:54,706 INFO sqlalchemy.engine.base.Engine PRAGMA table_info(\"Shipper\")\n",
      "2019-06-04 07:47:54,706 INFO sqlalchemy.engine.base.Engine ()\n",
      "Table Name: Shipper\n",
      "\n",
      "Name: Id \t Type: INTEGER\n",
      "Name: CompanyName \t Type: VARCHAR(8000)\n",
      "Name: Phone \t Type: VARCHAR(8000)\n",
      "None\n",
      "2019-06-04 07:47:54,709 INFO sqlalchemy.engine.base.Engine PRAGMA table_info(\"Supplier\")\n",
      "2019-06-04 07:47:54,710 INFO sqlalchemy.engine.base.Engine ()\n",
      "Table Name: Supplier\n",
      "\n",
      "Name: Id \t Type: INTEGER\n",
      "Name: CompanyName \t Type: VARCHAR(8000)\n",
      "Name: ContactName \t Type: VARCHAR(8000)\n",
      "Name: ContactTitle \t Type: VARCHAR(8000)\n",
      "Name: Address \t Type: VARCHAR(8000)\n",
      "Name: City \t Type: VARCHAR(8000)\n",
      "Name: Region \t Type: VARCHAR(8000)\n",
      "Name: PostalCode \t Type: VARCHAR(8000)\n",
      "Name: Country \t Type: VARCHAR(8000)\n",
      "Name: Phone \t Type: VARCHAR(8000)\n",
      "Name: Fax \t Type: VARCHAR(8000)\n",
      "Name: HomePage \t Type: VARCHAR(8000)\n",
      "None\n",
      "2019-06-04 07:47:54,713 INFO sqlalchemy.engine.base.Engine PRAGMA table_info(\"Territory\")\n",
      "2019-06-04 07:47:54,713 INFO sqlalchemy.engine.base.Engine ()\n",
      "Table Name: Territory\n",
      "\n",
      "Name: Id \t Type: VARCHAR(8000)\n",
      "Name: TerritoryDescription \t Type: VARCHAR(8000)\n",
      "Name: RegionId \t Type: INTEGER\n",
      "None\n"
     ]
    },
    {
     "data": {
      "text/html": [
       "<img src=\"Northwind_ERD.png\"/>"
      ],
      "text/plain": [
       "<IPython.core.display.Image object>"
      ]
     },
     "execution_count": 20,
     "metadata": {},
     "output_type": "execute_result"
    }
   ],
   "source": [
    "#explore the data\n",
    "table_list = ['Category', 'Customer', 'CustomerCustomerDemo', 'CustomerDemographic', 'Employee', 'EmployeeTerritory', 'Order', 'OrderDetail', 'Product', 'Region', 'Shipper', 'Supplier', 'Territory']\n",
    "def all_tables(table_list):\n",
    "    for table in table_list:\n",
    "        print(get_columns_info(table))\n",
    "all_tables(table_list)\n",
    "\n",
    "from IPython.display import Image\n",
    "from IPython.core.display import HTML \n",
    "Image(url= \"Northwind_ERD.png\")"
   ]
  },
  {
   "cell_type": "markdown",
   "metadata": {},
   "source": [
    "# Question #1: Do discounts have a statistically significant effect on the number of products customers order? If so, at what level(s) of discount?\n",
    "\n",
    "1. Construct hypothesis (null and alternative)\n",
    "- Null: H0 = there is no difference in product quantity per order across all levels of discounts (M1 = M2 = M3 = M4 = M5 = M6 = M7 = M8 = M9 = M10 = M11)\n",
    "- Alternative: H1 = there is a difference in product quantity per order between at least 2 discount levels (M1 =/= M2 and/or M3, etc.; M2 =/= M3 and/or M4, etc.) \n",
    "2. Test with an experiment: two-tail test (because we want to test if the average product quantity per order at each discount level falls between, or outside of, a range of two given values; in short, we are testing for any difference [more or fewer products per order] among the discount levels.  \n",
    "- ANOVA  (ANalysis Of VAriance) = a statistical test for multiple groups (multiple pairwise comparisons). ANOVA describes overall variation from all of our sample observations, and break this variation down to variation from each of these individual factors [Sum of Square of Deviations. or the variance between mean of each sample group to the observations within the group itself] vs. unaccounted-for error or chance [Sum of Square of Errors, or the variance between mean of these test groups to the mean of all observations].    \n",
    "3. Analyze Results: \n",
    "- Test statistic = F-distribution, which results from comparing the SSD and SSE. Higher values of the F-statistic indicate a higher probability of that factor being influential.\n",
    "- P-value\n",
    "- Effect size\n",
    "4. Conclusion: Reject or fail to reject the hypothesis"
   ]
  },
  {
   "cell_type": "code",
   "execution_count": 44,
   "metadata": {},
   "outputs": [
    {
     "name": "stdout",
     "output_type": "stream",
     "text": [
      "2019-06-04 15:22:47,112 INFO sqlalchemy.engine.base.Engine SELECT * FROM Employee\n",
      "2019-06-04 15:22:47,112 INFO sqlalchemy.engine.base.Engine ()\n",
      "2019-06-04 15:22:47,117 INFO sqlalchemy.engine.base.Engine SELECT * FROM Territory\n",
      "2019-06-04 15:22:47,118 INFO sqlalchemy.engine.base.Engine ()\n"
     ]
    },
    {
     "data": {
      "text/plain": [
       "array(['Westboro', 'Bedford', 'Georgetow', 'Boston', 'Cambridge',\n",
       "       'Braintree', 'Providence', 'Hollis', 'Portsmouth', 'Wilton',\n",
       "       'Morristown', 'Edison', 'New York', 'Mellvile', 'Fairport',\n",
       "       'Philadelphia', 'Neward', 'Rockville', 'Greensboro', 'Cary',\n",
       "       'Columbia', 'Atlanta', 'Savannah', 'Orlando', 'Tampa',\n",
       "       'Louisville', 'Beachwood', 'Findlay', 'Southfield', 'Troy',\n",
       "       'Bloomfield Hills', 'Racine', 'Roseville', 'Minneapolis',\n",
       "       'Hoffman Estates', 'Chicago', 'Bentonville', 'Dallas', 'Austin',\n",
       "       'Denver', 'Colorado Springs', 'Phoenix', 'Scottsdale',\n",
       "       'Santa Monica', 'Menlo Park', 'San Francisco', 'Campbell',\n",
       "       'Santa Clara', 'Santa Cruz', 'Bellevue', 'Redmond', 'Seattle'],\n",
       "      dtype=object)"
      ]
     },
     "execution_count": 44,
     "metadata": {},
     "output_type": "execute_result"
    }
   ],
   "source": [
    "df2 = pd.read_sql_query('''SELECT * FROM Territory''', engine)\n",
    "df2.TerritoryDescription.unique()"
   ]
  },
  {
   "cell_type": "code",
   "execution_count": 45,
   "metadata": {},
   "outputs": [
    {
     "name": "stdout",
     "output_type": "stream",
     "text": [
      "2019-06-04 15:31:37,965 INFO sqlalchemy.engine.base.Engine SELECT * FROM OrderDetail\n",
      "2019-06-04 15:31:37,966 INFO sqlalchemy.engine.base.Engine ()\n"
     ]
    },
    {
     "data": {
      "text/plain": [
       "array([0.  , 0.15, 0.05, 0.2 , 0.25, 0.1 , 0.02, 0.03, 0.04, 0.06, 0.01])"
      ]
     },
     "execution_count": 45,
     "metadata": {},
     "output_type": "execute_result"
    }
   ],
   "source": [
    "df = pd.read_sql_query('''SELECT * FROM OrderDetail''', engine)\n",
    "df.Discount.unique()\n"
   ]
  },
  {
   "cell_type": "code",
   "execution_count": null,
   "metadata": {},
   "outputs": [],
   "source": []
  }
 ],
 "metadata": {
  "kernelspec": {
   "display_name": "Python 3",
   "language": "python",
   "name": "python3"
  },
  "language_info": {
   "codemirror_mode": {
    "name": "ipython",
    "version": 3
   },
   "file_extension": ".py",
   "mimetype": "text/x-python",
   "name": "python",
   "nbconvert_exporter": "python",
   "pygments_lexer": "ipython3",
   "version": "3.6.6"
  }
 },
 "nbformat": 4,
 "nbformat_minor": 2
}
